{
  "nbformat": 4,
  "nbformat_minor": 0,
  "metadata": {
    "colab": {
      "name": "google_colab_hashcat.ipynb",
      "provenance": [],
      "collapsed_sections": []
    },
    "kernelspec": {
      "name": "python3",
      "display_name": "Python 3"
    },
    "accelerator": "GPU"
  },
  "cells": [
    {
      "cell_type": "markdown",
      "metadata": {
        "id": "bcgg59uiIxrv"
      },
      "source": [
        "# Nephelees - NTDS cracking on Google Colab\r\n",
        "1. Select \"Runtime\", \"Change runtime type\", and set \"Hardware accelerator\" to GPU.    \r\n",
        "2. Select \"Runtime\" and \"Run all\" !\r\n",
        "1. on your local machine, run [hashonymize](https://github.com/ShutdownRepo/hashonymize) to anonymize your hash lists\r\n",
        "2. upload your anon hashes list on the colab `!wget http://yourip:yourport/yourfile` or with the upload button\r\n",
        "3. install requirements\r\n",
        "4. run a hashcat command like this to start cracking `!hashcat --status --hash-type 1000 --attack-mode 0 --username DOMAIN.LOCAL.ntds wordlists/rockyou.txt`\r\n",
        "5. recover the .pot file from the Google Colab `!curl --upload-file ~/.hashcat/hashcat.potfile http://yourip:yourport/`\r\n",
        "6. on your local machine, run the following hashcat command with the recovered potfile to match real usernames with cracked password `hashcat --potfile-path hashcat.potfile --hash-type 1000 --username DOMAIN.LOCAL.ntds wordlists/rockyou.txt`\r\n",
        "\r\n",
        "**/!\\** For every 12hrs or so Disk, RAM, VRAM, CPU cache etc data that is on our alloted virtual machine will get erased. "
      ]
    },
    {
      "cell_type": "code",
      "metadata": {
        "colab": {
          "base_uri": "https://localhost:8080/"
        },
        "id": "A86GVzaW6YpT",
        "outputId": "fbeb72d7-0174-4812-91fe-6e74dba550ce"
      },
      "source": [
        "# Check GPU (Tesla P100 is the best GPU on Colab)\r\n",
        "!nvidia-smi -L"
      ],
      "execution_count": null,
      "outputs": [
        {
          "output_type": "stream",
          "text": [
            "GPU 0: Tesla P100-PCIE-16GB (UUID: GPU-711e1706-fccb-c944-73a8-796eb7a9d342)\n"
          ],
          "name": "stdout"
        }
      ]
    },
    {
      "cell_type": "code",
      "metadata": {
        "id": "LWWa641VMu7Y"
      },
      "source": [
        "# Install Hashcat\r\n",
        "!apt install cmake build-essential -y\r\n",
        "!apt install checkinstall git -y\r\n",
        "!git clone https://github.com/hashcat/hashcat.git && cd hashcat && make -j 8 && make install"
      ],
      "execution_count": null,
      "outputs": []
    },
    {
      "cell_type": "code",
      "metadata": {
        "id": "_M4BMeXCNCA8",
        "colab": {
          "base_uri": "https://localhost:8080/"
        },
        "outputId": "f08a6696-17ca-4415-f572-402e96fb7717"
      },
      "source": [
        "# Download wordlists\r\n",
        "import os\r\n",
        "wordlists_dir = \"wordlists\"\r\n",
        "os.system(\"wordlists_dir={}\".format(wordlists_dir))\r\n",
        "!mkdir ./$wordlists_dir\r\n",
        "\r\n",
        "!printf \"[+] Downloading the Rockyou wordlist...\\n\"\r\n",
        "!cd $wordlists_dir && wget https://download.weakpass.com/wordlists/90/rockyou.txt.gz\r\n",
        "!printf \"[+] Wordlist downloaded !\\n[+] Extraction...\\n\"\r\n",
        "!cd $wordlists_dir && gunzip rockyou.txt.gz\r\n",
        "!printf \"[+] Finished !\\n[+] Location : $(pwd)/$wordlists_dir/$(ls wordlists | grep rockyou)\"\r\n",
        "\r\n",
        "!printf \"[+] Downloading the KerberoastPW wordlist...\\n\"\r\n",
        "!cd $wordlists_dir && wget https://gist.github.com/edermi/f8b143b11dc020b854178d3809cf91b5/raw/b7d83af6a8bbb43013e04f78328687d19d0cf9a7/kerberoast_pws.xz\r\n",
        "!printf \"[+] Wordlist downloaded !\\n[+] Extraction...\\n\"\r\n",
        "!cd $wordlists_dir && unxz kerberoast_pws.xz\r\n",
        "!printf \"[+] Finished !\\n[+] Location : $(pwd)/$wordlists_dir/$(ls wordlists | grep kerberoast_pws)\"\r\n",
        "\r\n",
        "!printf \"[+] Downloading the HashesOrg2019 wordlist...\\n\"\r\n",
        "!cd $wordlists_dir && wget https://download.weakpass.com/wordlists/1851/hashesorg2019.gz\r\n",
        "!printf \"[+] Wordlist downloaded !\\n[+] Extraction...\\n\"\r\n",
        "!cd $wordlists_dir && gunzip hashesorg2019.gz\r\n",
        "!printf \"[+] Finished !\\n[+] Location : $(pwd)/$wordlists_dir/$(ls wordlists | grep hashesorg2019)\"\r\n",
        "\r\n",
        "# !printf \"[+] Downloading the Have I been Pwned V7 wordlist...\\n\"\r\n",
        "# !cd $wordlists_dir && wget https://hashes.org/download.php?type=found&hashlistId=8161 -O \tHaveIbeenPwnedV7.txt\r\n",
        "# !printf \"[+] Wordlist downloaded !\\n[+]\\n\"\r\n",
        "# !printf \"[+] Finished !\\n[+] Location : $(pwd)/$wordlists_dir/$(ls wordlists | grep HaveIbeenPwnedV7)\"\r\n"
      ],
      "execution_count": 20,
      "outputs": [
        {
          "output_type": "stream",
          "text": [
            "mkdir: cannot create directory ‘./wordlists’: File exists\n",
            "[+] Downloading the Rockyou wordlist...\n",
            "--2020-12-21 15:03:51--  https://download.weakpass.com/wordlists/90/rockyou.txt.gz\n",
            "Resolving download.weakpass.com (download.weakpass.com)... 104.21.234.151, 104.21.234.150, 2606:4700:3038::6815:ea97, ...\n",
            "Connecting to download.weakpass.com (download.weakpass.com)|104.21.234.151|:443... connected.\n",
            "HTTP request sent, awaiting response... 200 OK\n",
            "Length: 53357062 (51M) [application/octet-stream]\n",
            "Saving to: ‘rockyou.txt.gz’\n",
            "\n",
            "rockyou.txt.gz      100%[===================>]  50.88M  11.8MB/s    in 5.3s    \n",
            "\n",
            "2020-12-21 15:03:56 (9.59 MB/s) - ‘rockyou.txt.gz’ saved [53357062/53357062]\n",
            "\n",
            "[+] Wordlist downloaded !\n",
            "[+] Extraction...\n",
            "gzip: rockyou.txt already exists; do you wish to overwrite (y or n)? ^C\n",
            "[+] Finished !\n",
            "[+] Location : /content/wordlists/rockyou.txt\n",
            "rockyou.txt.gz[+] Downloading the KerberoastPW wordlist...\n",
            "--2020-12-21 15:05:19--  https://gist.github.com/edermi/f8b143b11dc020b854178d3809cf91b5/raw/b7d83af6a8bbb43013e04f78328687d19d0cf9a7/kerberoast_pws.xz\n",
            "Resolving gist.github.com (gist.github.com)... 192.30.255.113\n",
            "Connecting to gist.github.com (gist.github.com)|192.30.255.113|:443... connected.\n",
            "HTTP request sent, awaiting response... 301 Moved Permanently\n",
            "Location: https://gist.githubusercontent.com/edermi/f8b143b11dc020b854178d3809cf91b5/raw/b7d83af6a8bbb43013e04f78328687d19d0cf9a7/kerberoast_pws.xz [following]\n",
            "--2020-12-21 15:05:19--  https://gist.githubusercontent.com/edermi/f8b143b11dc020b854178d3809cf91b5/raw/b7d83af6a8bbb43013e04f78328687d19d0cf9a7/kerberoast_pws.xz\n",
            "Resolving gist.githubusercontent.com (gist.githubusercontent.com)... 151.101.0.133, 151.101.64.133, 151.101.128.133, ...\n",
            "Connecting to gist.githubusercontent.com (gist.githubusercontent.com)|151.101.0.133|:443... connected.\n",
            "HTTP request sent, awaiting response... 200 OK\n",
            "Length: 98784072 (94M) [application/octet-stream]\n",
            "Saving to: ‘kerberoast_pws.xz.1’\n",
            "\n",
            "kerberoast_pws.xz.1 100%[===================>]  94.21M   185MB/s    in 0.5s    \n",
            "\n",
            "2020-12-21 15:05:21 (185 MB/s) - ‘kerberoast_pws.xz.1’ saved [98784072/98784072]\n",
            "\n",
            "[+] Wordlist downloaded !\n",
            "[+] Extraction...\n",
            "unxz: kerberoast_pws: File exists\n",
            "[+] Finished !\n",
            "[+] Location : /content/wordlists/kerberoast_pws\n",
            "kerberoast_pws.xz\n",
            "kerberoast_pws.xz.1[+] Downloading the HashesOrg2019 wordlist...\n",
            "--2020-12-21 15:05:21--  https://download.weakpass.com/wordlists/1851/hashesorg2019.gz\n",
            "Resolving download.weakpass.com (download.weakpass.com)... 104.21.234.150, 104.21.234.151, 2606:4700:3038::6815:ea97, ...\n",
            "Connecting to download.weakpass.com (download.weakpass.com)|104.21.234.150|:443... connected.\n",
            "HTTP request sent, awaiting response... 200 OK\n",
            "Length: 4468104490 (4.2G) [application/octet-stream]\n",
            "Saving to: ‘hashesorg2019.gz’\n",
            "\n",
            "hashesorg2019.gz    100%[===================>]   4.16G  11.7MB/s    in 6m 0s   \n",
            "\n",
            "2020-12-21 15:11:21 (11.9 MB/s) - ‘hashesorg2019.gz’ saved [4468104490/4468104490]\n",
            "\n",
            "[+] Wordlist downloaded !\n",
            "[+] Extraction...\n",
            "[+] Finished !\n",
            "[+] Location : /content/wordlists/hashesorg2019"
          ],
          "name": "stdout"
        }
      ]
    },
    {
      "cell_type": "code",
      "metadata": {
        "id": "d1cxo70DQDxs"
      },
      "source": [
        "# Download rules\r\n",
        "import os\r\n",
        "rules_dir = \"/content/hashcat/rules\"\r\n",
        "os.system(\"rules_dir={}\".format(rules_dir))\r\n",
        "!mkdir ./$rules_dir\r\n",
        "\r\n",
        "!printf \"[+] Downloading the hob064 ruleset...\\n\"\r\n",
        "!cd $rules_dir && wget https://raw.githubusercontent.com/praetorian-inc/Hob0Rules/master/hob064.rule\r\n",
        "!printf \"[+] Rules downloaded !\\n\"\r\n",
        "!printf \"[+] Location : $(ls $rules_dir | grep hob064)\"\r\n",
        "\r\n",
        "!printf \"[+] Downloading the d3adhob0 ruleset...\\n\"\r\n",
        "!cd $rules_dir && wget https://raw.githubusercontent.com/praetorian-inc/Hob0Rules/master/d3adhob0.rule\r\n",
        "!printf \"[+] Rules downloaded !\\n\"\r\n",
        "!printf \"[+] Location : $(ls $rules_dir | grep d3adhob0)\""
      ],
      "execution_count": null,
      "outputs": []
    },
    {
      "cell_type": "code",
      "metadata": {
        "id": "vNuhf2r4JxdD"
      },
      "source": [
        "# 2. Download your hashfile from your machine\n",
        "# for OPSEC reasons, please don't paste your hashes on a pastebin\n",
        "# use ngrok (https://ngrok.com/) + updog (https://github.com/sc0tfree/updog) instead if you don't have a public IP address\n",
        "!wget https://YOURLISTENERIP:YOURPORT/YOURFILE"
      ],
      "execution_count": null,
      "outputs": []
    },
    {
      "cell_type": "code",
      "metadata": {
        "id": "xYgvNWGbKXSp",
        "colab": {
          "base_uri": "https://localhost:8080/"
        },
        "outputId": "cfbf1c6b-7d90-4108-fefa-e7566ad718b1"
      },
      "source": [
        "# 3. Crack your hashes\n",
        "\n",
        "# Quick cracking - rockyou wordlist - around 10 minutes\n",
        "# !hashcat -m 1000 --potfile-path /content/cracked.pot --status --status-timer 300 -w 4 -O -a 0 /content/*.ntds /content/wordlists/rockyou.txt --username\n",
        "# !hashcat -m 1000 --potfile-path /content/cracked.pot --status --status-timer 300 -w 4 -O -a 0 /content/*.ntds /content/wordlists/rockyou.txt --rules-file /content/hashcat/rules/hob064.rule --username\n",
        "# !hashcat -m 1000 --potfile-path /content/cracked.pot --status --status-timer 300 -w 4 -O -a 0 /content/*.ntds /content/wordlists/rockyou.txt --rules-file /content/hashcat/rules/d3adhob0.rule --username\n",
        "# !hashcat -m 1000 --potfile-path /content/cracked.pot --status --status-timer 300 -w 4 -O -a 0 /content/*.ntds /content/wordlists/rockyou.txt --rules-file /content/hashcat/rules/dive.rule --username\n",
        "\n",
        "# Medium cracking - kerberoast wordlist - around 30 minutes\n",
        "# !hashcat -m 1000 --potfile-path /content/cracked.pot --status --status-timer 300 -w 4 -O -a 0 /content/*.ntds /content/wordlists/kerberoast_pws --username\n",
        "# !hashcat -m 1000 --potfile-path /content/cracked.pot --status --status-timer 300 -w 4 -O -a 0 /content/*.ntds /content/wordlists/kerberoast_pws --rules-file /content/hashcat/rules/hob064.rule --username\n",
        "# !hashcat -m 1000 --potfile-path /content/cracked.pot --status --status-timer 300 -w 4 -O -a 0 /content/*.ntds /content/wordlists/kerberoast_pws --rules-file /content/hashcat/rules/d3adhob0.rule --username\n",
        "# !hashcat -m 1000 --potfile-path /content/cracked.pot --status --status-timer 300 -w 4 -O -a 0 /content/*.ntds /content/wordlists/kerberoast_pws --rules-file /content/hashcat/rules/dive.rule --username\n",
        "\n",
        "# Insane cracking - hashesorg2019 wordlist - several days ?\n",
        "# !hashcat -m 1000 --potfile-path /content/cracked.pot --status --status-timer 300 -w 4 -O -a 0 /content/*.ntds /content/wordlists/hashesorg2019 --username\n",
        "!hashcat -m 1000 --potfile-path /content/cracked.pot --status --status-timer 300 -w 4 -O -a 0 /content/*.ntds /content/wordlists/hashesorg2019 --rules-file /content/hashcat/rules/hob064.rule --username\n",
        "# !hashcat -m 1000 --potfile-path /content/cracked.pot --status --status-timer 300 -w 4 -O -a 0 /content/*.ntds /content/wordlists/hashesorg2019 --rules-file /content/hashcat/rules/d3adhob0.rule --username\n",
        "# !hashcat -m 1000 --potfile-path /content/cracked.pot --status --status-timer 300 -w 4 -O -a 0 /content/*.ntds /content/wordlists/hashesorg2019 --rules-file /content/hashcat/rules/dive.rule --username\n",
        "\n",
        "# ----- around 3 hours on a p100 ------\n",
        "# !hashcat -m 1000 --potfile-path /content/cracked.pot --status --status-timer 300 -w 4 -O /content/*.ntds -a 3 -1 ?l?d?u ?1?1?1?1?1?1?1?1\n",
        "# ----- more than 3 days on a P100 --------\n",
        "# !hashcat -m 1000 --potfile-path /content/cracked.pot --status --status-timer 300 -w 4 -O /content/*.ntds -a 3 ?a?a?a?a?a?a?a?a \n",
        "# !hashcat -m 1000 --potfile-path /content/cracked.pot --status --status-timer 300 -w 4 -O /content/*.ntds -a 3 ?a?a?a?a?a?a?a?a?a"
      ],
      "execution_count": null,
      "outputs": [
        {
          "output_type": "stream",
          "text": [
            "hashcat (v6.1.1-120-g15bf8b730) starting...\n",
            "\n",
            "\u001b[31mnvmlDeviceGetFanSpeed(): Not Supported\u001b[0m\n",
            "\n",
            "CUDA API (CUDA 10.1)\n",
            "====================\n",
            "* Device #1: Tesla P100-PCIE-16GB, 16017/16280 MB, 56MCU\n",
            "\n",
            "OpenCL API (OpenCL 1.2 CUDA 10.1.152) - Platform #1 [NVIDIA Corporation]\n",
            "========================================================================\n",
            "* Device #2: Tesla P100-PCIE-16GB, skipped\n",
            "\n",
            "Minimum password length supported by kernel: 0\n",
            "Maximum password length supported by kernel: 27\n",
            "\n",
            "Hashes: 45 digests; 45 unique digests, 1 unique salts\n",
            "Bitmaps: 16 bits, 65536 entries, 0x0000ffff mask, 262144 bytes, 5/13 rotates\n",
            "Rules: 64\n",
            "\n",
            "Applicable optimizers applied:\n",
            "* Optimized-Kernel\n",
            "* Zero-Byte\n",
            "* Precompute-Init\n",
            "* Meet-In-The-Middle\n",
            "* Early-Skip\n",
            "* Not-Salted\n",
            "* Not-Iterated\n",
            "* Single-Salt\n",
            "* Raw-Hash\n",
            "\n",
            "Watchdog: Temperature abort trigger set to 90c\n",
            "\n",
            "INFO: Removed 27 hashes found in potfile.\n",
            "\n",
            "Host memory required for this attack: 983 MB\n",
            "\n",
            "Dictionary cache hit:\n",
            "* Filename..: /content/wordlists/hashesorg2019\n",
            "* Passwords.: 1279729109\n",
            "* Bytes.....: 13733214816\n",
            "* Keyspace..: 81902662976\n",
            "\n",
            "\u001b[33mCracking performance lower than expected?\u001b[0m\n",
            "\u001b[33m\u001b[0m\n",
            "\u001b[33m* Update your backend API runtime / driver the right way:\u001b[0m\n",
            "\u001b[33m  https://hashcat.net/faq/wrongdriver\u001b[0m\n",
            "\u001b[33m\u001b[0m\n",
            "\u001b[33m* Create more work items to make use of your parallelization power:\u001b[0m\n",
            "\u001b[33m  https://hashcat.net/faq/morework\u001b[0m\n",
            "\u001b[33m\u001b[0m\n",
            "[s]tatus [p]ause [b]ypass [c]heckpoint [q]uit => "
          ],
          "name": "stdout"
        }
      ]
    }
  ]
}